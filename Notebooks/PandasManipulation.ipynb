{
 "cells": [
  {
   "cell_type": "markdown",
   "metadata": {
    "toc": true
   },
   "source": [
    "<h1>Table of Contents<span class=\"tocSkip\"></span></h1>\n",
    "<div class=\"toc\"><ul class=\"toc-item\"><li><span><a href=\"#Librerías\" data-toc-modified-id=\"Librerías-1\"><span class=\"toc-item-num\">1&nbsp;&nbsp;</span>Librerías</a></span></li><li><span><a href=\"#Procesamiento-de-los-Datos---Municipios\" data-toc-modified-id=\"Procesamiento-de-los-Datos---Municipios-2\"><span class=\"toc-item-num\">2&nbsp;&nbsp;</span>Procesamiento de los Datos - Municipios</a></span><ul class=\"toc-item\"><li><span><a href=\"#Ejemplos-de-Limpieza-y-Manipulación\" data-toc-modified-id=\"Ejemplos-de-Limpieza-y-Manipulación-2.1\"><span class=\"toc-item-num\">2.1&nbsp;&nbsp;</span>Ejemplos de Limpieza y Manipulación</a></span></li><li><span><a href=\"#Ejemplos-de-Queries-con-SQL\" data-toc-modified-id=\"Ejemplos-de-Queries-con-SQL-2.2\"><span class=\"toc-item-num\">2.2&nbsp;&nbsp;</span>Ejemplos de Queries con SQL</a></span></li></ul></li><li><span><a href=\"#Procesamiento-de-Datos---Advertising\" data-toc-modified-id=\"Procesamiento-de-Datos---Advertising-3\"><span class=\"toc-item-num\">3&nbsp;&nbsp;</span>Procesamiento de Datos - Advertising</a></span></li></ul></div>"
   ]
  },
  {
   "cell_type": "markdown",
   "metadata": {},
   "source": [
    "# Manipulación de Datos con Pandas\n",
    "\n",
    "En este notebook se pretende resumir de manera general el manejo de bases de datos con `pandas`.\n",
    "\n",
    "Este notebook hace parte (y es el comienzo) de la serie de notebooks y scripts del curso de __Tópicos de Estadística Avanzada (DS y ML)__ tomado en la Universiad Nacional de Colombia."
   ]
  },
  {
   "cell_type": "markdown",
   "metadata": {
    "heading_collapsed": true
   },
   "source": [
    "## Librerías \n",
    "\n",
    "En esta seccion se importan las librerías y modulos que se van a usar a lo largo del notebook."
   ]
  },
  {
   "cell_type": "code",
   "execution_count": 17,
   "metadata": {
    "ExecuteTime": {
     "end_time": "2021-04-05T21:53:27.090985Z",
     "start_time": "2021-04-05T21:53:27.088150Z"
    },
    "hidden": true
   },
   "outputs": [],
   "source": [
    "# Se importan modelos y funciones param mostrar imagenes\n",
    "from IPython.display import Image\n",
    "from IPython.core.display import HTML \n",
    "\n",
    "# Librerias para la regresión lineal\n",
    "import pandas as pd\n",
    "import pandasql as ps\n",
    "import numpy as np\n",
    "import os\n",
    "pd.options.display.float_format = '{:,.2f}'.format"
   ]
  },
  {
   "cell_type": "markdown",
   "metadata": {},
   "source": [
    "## Procesamiento de los Datos - Municipios\n",
    "\n",
    "En esta sección se leen los datos que servirán de ejemplo."
   ]
  },
  {
   "cell_type": "code",
   "execution_count": 18,
   "metadata": {
    "ExecuteTime": {
     "end_time": "2021-04-05T21:53:27.178070Z",
     "start_time": "2021-04-05T21:53:27.176100Z"
    }
   },
   "outputs": [],
   "source": [
    "# Define la ruta de imagenes y de datos\n",
    "ruta_dta = '../Data/Data Manipulation Pandas/'\n",
    "ruta_img = '../Imagenes/Data Manipulation Pandas/'"
   ]
  },
  {
   "cell_type": "code",
   "execution_count": 19,
   "metadata": {
    "ExecuteTime": {
     "end_time": "2021-04-05T21:53:27.321108Z",
     "start_time": "2021-04-05T21:53:27.179948Z"
    }
   },
   "outputs": [
    {
     "name": "stdout",
     "output_type": "stream",
     "text": [
      "INFORMACION DEL DATASET: \n",
      "\n",
      "<class 'pandas.core.frame.DataFrame'>\n",
      "RangeIndex: 1118 entries, 0 to 1117\n",
      "Data columns (total 8 columns):\n",
      " #   Column        Non-Null Count  Dtype  \n",
      "---  ------        --------------  -----  \n",
      " 0   Departamento  1118 non-null   object \n",
      " 1   Dep           1118 non-null   object \n",
      " 2   Municipio     1118 non-null   object \n",
      " 3   Depmun        1118 non-null   object \n",
      " 4   Superficie    1117 non-null   float64\n",
      " 5   Poblacion     1118 non-null   float64\n",
      " 6   Irural        1118 non-null   float64\n",
      " 7   Region        1118 non-null   object \n",
      "dtypes: float64(3), object(5)\n",
      "memory usage: 70.0+ KB\n"
     ]
    }
   ],
   "source": [
    "# Lee el excel de municipios y especifica el tipo de datos de algunas de las columnas\n",
    "municipios = pd.read_excel(ruta_dta + 'Municipios.xlsx', dtype={'Dep': str, 'Depmun': str, 'Irural': float, \n",
    "                                                                'Poblacion': float})\n",
    "print('INFORMACION DEL DATASET: \\n')\n",
    "municipios.info()"
   ]
  },
  {
   "cell_type": "markdown",
   "metadata": {},
   "source": [
    "### Ejemplos de Limpieza y Manipulación"
   ]
  },
  {
   "cell_type": "code",
   "execution_count": 20,
   "metadata": {
    "ExecuteTime": {
     "end_time": "2021-04-05T21:53:27.338645Z",
     "start_time": "2021-04-05T21:53:27.323485Z"
    }
   },
   "outputs": [
    {
     "data": {
      "text/html": [
       "<div>\n",
       "<style scoped>\n",
       "    .dataframe tbody tr th:only-of-type {\n",
       "        vertical-align: middle;\n",
       "    }\n",
       "\n",
       "    .dataframe tbody tr th {\n",
       "        vertical-align: top;\n",
       "    }\n",
       "\n",
       "    .dataframe thead th {\n",
       "        text-align: right;\n",
       "    }\n",
       "</style>\n",
       "<table border=\"1\" class=\"dataframe\">\n",
       "  <thead>\n",
       "    <tr style=\"text-align: right;\">\n",
       "      <th></th>\n",
       "      <th>Departamento</th>\n",
       "      <th>Dep</th>\n",
       "      <th>Municipio</th>\n",
       "      <th>Depmun</th>\n",
       "      <th>Superficie</th>\n",
       "      <th>Poblacion</th>\n",
       "      <th>Irural</th>\n",
       "      <th>Region</th>\n",
       "    </tr>\n",
       "  </thead>\n",
       "  <tbody>\n",
       "    <tr>\n",
       "      <th>MISSINGS</th>\n",
       "      <td>0.00</td>\n",
       "      <td>0.00</td>\n",
       "      <td>0.00</td>\n",
       "      <td>0.00</td>\n",
       "      <td>1.00</td>\n",
       "      <td>0.00</td>\n",
       "      <td>0.00</td>\n",
       "      <td>0.00</td>\n",
       "    </tr>\n",
       "    <tr>\n",
       "      <th>% OF MISSINGS</th>\n",
       "      <td>0.00</td>\n",
       "      <td>0.00</td>\n",
       "      <td>0.00</td>\n",
       "      <td>0.00</td>\n",
       "      <td>0.09</td>\n",
       "      <td>0.00</td>\n",
       "      <td>0.00</td>\n",
       "      <td>0.00</td>\n",
       "    </tr>\n",
       "  </tbody>\n",
       "</table>\n",
       "</div>"
      ],
      "text/plain": [
       "               Departamento  Dep  Municipio  Depmun  Superficie  Poblacion  \\\n",
       "MISSINGS               0.00 0.00       0.00    0.00        1.00       0.00   \n",
       "% OF MISSINGS          0.00 0.00       0.00    0.00        0.09       0.00   \n",
       "\n",
       "               Irural  Region  \n",
       "MISSINGS         0.00    0.00  \n",
       "% OF MISSINGS    0.00    0.00  "
      ]
     },
     "execution_count": 20,
     "metadata": {},
     "output_type": "execute_result"
    }
   ],
   "source": [
    "# Cantidad y porcentaje de valores nulos por columna del datset\n",
    "def missings(x):\n",
    "            a = x.isna().sum()\n",
    "            b = 100*x.isna().mean()\n",
    "            c = pd.Series({\"MISSINGS\": a,\"% OF MISSINGS\": b})\n",
    "            return(c)\n",
    "\n",
    "municipios.apply(missings)"
   ]
  },
  {
   "cell_type": "code",
   "execution_count": 21,
   "metadata": {
    "ExecuteTime": {
     "end_time": "2021-04-05T21:53:27.352499Z",
     "start_time": "2021-04-05T21:53:27.340291Z"
    }
   },
   "outputs": [
    {
     "name": "stdout",
     "output_type": "stream",
     "text": [
      "        Municipio Municipio2\n",
      "0      Mede&l'lín   Medellín\n",
      "1   Abej!&orr*al   Abejorral\n"
     ]
    }
   ],
   "source": [
    "# Correji y quita ciertos caracteres de la columna de municipios\n",
    "municipios[\"Municipio2\"] = (municipios[\"Municipio\"]\n",
    "                            .str.lower()\n",
    "                            .str.replace(\"[^a-záéíóúüñ ]\",\"\",regex=True)\n",
    "                            .str.replace(\" +\",\" \",regex=True)\n",
    "                            .str.strip()\n",
    "                            .str.title()\n",
    "                           ) \n",
    "print(municipios[[\"Municipio\",\"Municipio2\"]].head(n=2))\n",
    "municipios[\"Municipio\"] = municipios[\"Municipio2\"]\n",
    "municipios.drop(columns=\"Municipio2\", inplace=True)"
   ]
  },
  {
   "cell_type": "code",
   "execution_count": 24,
   "metadata": {
    "ExecuteTime": {
     "end_time": "2021-04-05T22:56:10.775179Z",
     "start_time": "2021-04-05T22:56:10.763021Z"
    }
   },
   "outputs": [
    {
     "name": "stdout",
     "output_type": "stream",
     "text": [
      "  Departamento Departamento2\n",
      "0    Antioquia     Antioquia\n",
      "1    Antioquia     Antioquia\n"
     ]
    }
   ],
   "source": [
    "# Correji y quita ciertos caracteres de la columna de departamentos\n",
    "municipios[\"Departamento2\"] = (municipios[\"Departamento\"]\n",
    "                               .str.lower()\n",
    "                               .str.replace(\"[^a-záéíóúüñ ]\",\"\",regex=True)\n",
    "                               .str.replace(\" +\",\" \",regex=True)\n",
    "                               .str.strip()\n",
    "                               .str.title()\n",
    "                              ) \n",
    "print(municipios[[\"Departamento\",\"Departamento2\"]].head(n=2))\n",
    "\n",
    "municipios[\"Departamento\"] = municipios[\"Departamento2\"]\n",
    "municipios.drop(columns=\"Departamento2\",inplace=True)"
   ]
  },
  {
   "cell_type": "code",
   "execution_count": 26,
   "metadata": {
    "ExecuteTime": {
     "end_time": "2021-04-05T22:57:41.630660Z",
     "start_time": "2021-04-05T22:57:41.616633Z"
    }
   },
   "outputs": [
    {
     "data": {
      "text/html": [
       "<div>\n",
       "<style scoped>\n",
       "    .dataframe tbody tr th:only-of-type {\n",
       "        vertical-align: middle;\n",
       "    }\n",
       "\n",
       "    .dataframe tbody tr th {\n",
       "        vertical-align: top;\n",
       "    }\n",
       "\n",
       "    .dataframe thead th {\n",
       "        text-align: right;\n",
       "    }\n",
       "</style>\n",
       "<table border=\"1\" class=\"dataframe\">\n",
       "  <thead>\n",
       "    <tr style=\"text-align: right;\">\n",
       "      <th></th>\n",
       "      <th>Departamento</th>\n",
       "      <th>Dep</th>\n",
       "      <th>Municipio</th>\n",
       "      <th>Depmun</th>\n",
       "      <th>Superficie</th>\n",
       "      <th>Poblacion</th>\n",
       "      <th>Irural</th>\n",
       "      <th>Region</th>\n",
       "      <th>Tipo</th>\n",
       "    </tr>\n",
       "  </thead>\n",
       "  <tbody>\n",
       "    <tr>\n",
       "      <th>0</th>\n",
       "      <td>Antioquia</td>\n",
       "      <td>05</td>\n",
       "      <td>Medellín</td>\n",
       "      <td>05001</td>\n",
       "      <td>374.83</td>\n",
       "      <td>2,483,545.00</td>\n",
       "      <td>5.00</td>\n",
       "      <td>Región Eje Cafetero</td>\n",
       "      <td>Capital</td>\n",
       "    </tr>\n",
       "    <tr>\n",
       "      <th>125</th>\n",
       "      <td>Atlántico</td>\n",
       "      <td>08</td>\n",
       "      <td>Barranquilla</td>\n",
       "      <td>08001</td>\n",
       "      <td>154.20</td>\n",
       "      <td>1,243,056.00</td>\n",
       "      <td>3.00</td>\n",
       "      <td>Región Caribe</td>\n",
       "      <td>Capital</td>\n",
       "    </tr>\n",
       "  </tbody>\n",
       "</table>\n",
       "</div>"
      ],
      "text/plain": [
       "    Departamento Dep     Municipio Depmun  Superficie    Poblacion  Irural  \\\n",
       "0      Antioquia  05      Medellín  05001      374.83 2,483,545.00    5.00   \n",
       "125    Atlántico  08  Barranquilla  08001      154.20 1,243,056.00    3.00   \n",
       "\n",
       "                   Region     Tipo  \n",
       "0    Región Eje Cafetero   Capital  \n",
       "125         Región Caribe  Capital  "
      ]
     },
     "execution_count": 26,
     "metadata": {},
     "output_type": "execute_result"
    }
   ],
   "source": [
    "# Tipo de municipio e imprime el head de municipios capitales\n",
    "def tipo(x): \n",
    "    if x[2:5]==\"001\" and x!=\"25001\": return(\"Capital\")\n",
    "    else: return(\"Otros\")\n",
    "municipios[\"Tipo\"] = municipios[\"Depmun\"].apply(tipo)\n",
    "municipios.query(\"Tipo=='Capital'\").head(n=2)"
   ]
  },
  {
   "cell_type": "code",
   "execution_count": 27,
   "metadata": {
    "ExecuteTime": {
     "end_time": "2021-04-05T23:01:03.866649Z",
     "start_time": "2021-04-05T23:01:03.851708Z"
    }
   },
   "outputs": [
    {
     "data": {
      "text/html": [
       "<div>\n",
       "<style scoped>\n",
       "    .dataframe tbody tr th:only-of-type {\n",
       "        vertical-align: middle;\n",
       "    }\n",
       "\n",
       "    .dataframe tbody tr th {\n",
       "        vertical-align: top;\n",
       "    }\n",
       "\n",
       "    .dataframe thead th {\n",
       "        text-align: right;\n",
       "    }\n",
       "</style>\n",
       "<table border=\"1\" class=\"dataframe\">\n",
       "  <thead>\n",
       "    <tr style=\"text-align: right;\">\n",
       "      <th></th>\n",
       "      <th>Departamento</th>\n",
       "      <th>Dep</th>\n",
       "      <th>Municipio</th>\n",
       "      <th>Depmun</th>\n",
       "      <th>Superficie</th>\n",
       "      <th>Poblacion</th>\n",
       "      <th>Irural</th>\n",
       "      <th>Region</th>\n",
       "      <th>Tipo</th>\n",
       "      <th>denspobl</th>\n",
       "      <th>Zona</th>\n",
       "    </tr>\n",
       "  </thead>\n",
       "  <tbody>\n",
       "    <tr>\n",
       "      <th>0</th>\n",
       "      <td>Antioquia</td>\n",
       "      <td>05</td>\n",
       "      <td>Medellín</td>\n",
       "      <td>05001</td>\n",
       "      <td>374.83</td>\n",
       "      <td>2,483,545.00</td>\n",
       "      <td>5.00</td>\n",
       "      <td>Región Eje Cafetero</td>\n",
       "      <td>Capital</td>\n",
       "      <td>6,625.78</td>\n",
       "      <td>Urbano</td>\n",
       "    </tr>\n",
       "    <tr>\n",
       "      <th>1</th>\n",
       "      <td>Antioquia</td>\n",
       "      <td>05</td>\n",
       "      <td>Abejorral</td>\n",
       "      <td>05002</td>\n",
       "      <td>507.13</td>\n",
       "      <td>20,258.00</td>\n",
       "      <td>45.00</td>\n",
       "      <td>Región Eje Cafetero</td>\n",
       "      <td>Otros</td>\n",
       "      <td>39.95</td>\n",
       "      <td>Rural</td>\n",
       "    </tr>\n",
       "  </tbody>\n",
       "</table>\n",
       "</div>"
      ],
      "text/plain": [
       "  Departamento Dep  Municipio Depmun  Superficie    Poblacion  Irural  \\\n",
       "0    Antioquia  05   Medellín  05001      374.83 2,483,545.00    5.00   \n",
       "1    Antioquia  05  Abejorral  05002      507.13    20,258.00   45.00   \n",
       "\n",
       "                 Region     Tipo  denspobl    Zona  \n",
       "0  Región Eje Cafetero   Capital  6,625.78  Urbano  \n",
       "1  Región Eje Cafetero     Otros     39.95   Rural  "
      ]
     },
     "execution_count": 27,
     "metadata": {},
     "output_type": "execute_result"
    }
   ],
   "source": [
    "# Tipo de municipio rural o urbano e imprime el head de municipios\n",
    "municipios[\"denspobl\"] = municipios[\"Poblacion\"]/municipios[\"Superficie\"]\n",
    "\n",
    "def zona(x): \n",
    "    if x  > 40: return(\"Rural\")\n",
    "    if x <= 40: return(\"Urbano\")\n",
    "municipios[\"Zona\"] = municipios[\"Irural\"].apply(zona)\n",
    "municipios.head(n=2)"
   ]
  },
  {
   "cell_type": "markdown",
   "metadata": {},
   "source": [
    "### Ejemplos de Queries con SQL"
   ]
  },
  {
   "cell_type": "code",
   "execution_count": 29,
   "metadata": {
    "ExecuteTime": {
     "end_time": "2021-04-06T00:41:50.092533Z",
     "start_time": "2021-04-06T00:41:49.856830Z"
    }
   },
   "outputs": [
    {
     "name": "stdout",
     "output_type": "stream",
     "text": [
      "<class 'pandas.core.frame.DataFrame'>\n",
      "RangeIndex: 66 entries, 0 to 65\n",
      "Data columns (total 6 columns):\n",
      " #   Column        Non-Null Count  Dtype  \n",
      "---  ------        --------------  -----  \n",
      " 0   Departamento  66 non-null     object \n",
      " 1   Dep           66 non-null     object \n",
      " 2   Depmun        66 non-null     object \n",
      " 3   Municipio     66 non-null     object \n",
      " 4   Superficie    66 non-null     float64\n",
      " 5   Poblacion     66 non-null     float64\n",
      "dtypes: float64(2), object(4)\n",
      "memory usage: 3.2+ KB\n"
     ]
    }
   ],
   "source": [
    "# Se hace una consulta de SQL a la data de municipios\n",
    "E1 = ps.sqldf(\"\"\"select   Departamento, Dep, Depmun, Municipio, Superficie, Poblacion\n",
    "                 from     municipios\n",
    "                 where    Dep in ('05','17') and Poblacion > 20000\n",
    "                 order by Dep asc, Poblacion desc\"\"\")\n",
    "E1.info()"
   ]
  },
  {
   "cell_type": "code",
   "execution_count": 30,
   "metadata": {
    "ExecuteTime": {
     "end_time": "2021-04-06T00:52:49.509785Z",
     "start_time": "2021-04-06T00:52:49.492913Z"
    }
   },
   "outputs": [
    {
     "data": {
      "text/plain": [
       "True"
      ]
     },
     "execution_count": 30,
     "metadata": {},
     "output_type": "execute_result"
    }
   ],
   "source": [
    "# Se hace la misma consulta con .loc y otros metodos de un pd.DataFrame\n",
    "e1 = (municipios\n",
    "      .loc[:,[\"Departamento\", \"Dep\", \"Depmun\", \"Municipio\", \"Superficie\", \"Poblacion\"]] \n",
    "      .query(\"Poblacion > 20000 and Dep in ('05','17')\")\n",
    "      .sort_values(by=[\"Dep\",\"Poblacion\"],ascending=[True,False])\n",
    "      .reset_index(drop=True)\n",
    "     )\n",
    "\n",
    "E1.equals(e1)"
   ]
  },
  {
   "cell_type": "code",
   "execution_count": 33,
   "metadata": {
    "ExecuteTime": {
     "end_time": "2021-04-06T01:00:48.504771Z",
     "start_time": "2021-04-06T01:00:48.469657Z"
    }
   },
   "outputs": [
    {
     "name": "stdout",
     "output_type": "stream",
     "text": [
      "<class 'pandas.core.frame.DataFrame'>\n",
      "RangeIndex: 7 entries, 0 to 6\n",
      "Data columns (total 6 columns):\n",
      " #   Column        Non-Null Count  Dtype  \n",
      "---  ------        --------------  -----  \n",
      " 0   Dep           7 non-null      object \n",
      " 1   Departamento  7 non-null      object \n",
      " 2   nmunicipios   7 non-null      int64  \n",
      " 3   totpob        7 non-null      float64\n",
      " 4   totsup        7 non-null      float64\n",
      " 5   denspob       7 non-null      float64\n",
      "dtypes: float64(3), int64(1), object(2)\n",
      "memory usage: 464.0+ bytes\n"
     ]
    }
   ],
   "source": [
    "E11 = ps.sqldf(\"\"\"select   Dep, Departamento, count(*) as nmunicipios, sum(Poblacion) as totpob, \n",
    "                           sum(Superficie) as totsup, sum(Poblacion)/sum(Superficie) as denspob\n",
    "                  from     municipios\n",
    "                  where    Irural > 40\n",
    "                  group by Dep, Departamento\n",
    "                  having   totpob >= 650000 and totsup >= 10000\n",
    "                  order by denspob desc\"\"\")\n",
    "E11.info()"
   ]
  },
  {
   "cell_type": "code",
   "execution_count": 34,
   "metadata": {
    "ExecuteTime": {
     "end_time": "2021-04-06T01:00:50.321157Z",
     "start_time": "2021-04-06T01:00:50.286014Z"
    }
   },
   "outputs": [
    {
     "data": {
      "text/plain": [
       "True"
      ]
     },
     "execution_count": 34,
     "metadata": {},
     "output_type": "execute_result"
    }
   ],
   "source": [
    "e11 = (municipios\n",
    "       .query(\"Irural > 40\")\n",
    "       .groupby([\"Dep\",\"Departamento\"])[[\"Depmun\",\"Superficie\",\"Poblacion\"]]\n",
    "       .agg(nmunicipios=(\"Depmun\",\"count\"),totpob=(\"Poblacion\",\"sum\"),totsup=(\"Superficie\",\"sum\")).reset_index()\n",
    "       .eval(\"denspob = totpob/totsup\")\n",
    "       .query(\"totpob >= 650000 and totsup >= 10000\")\n",
    "       .sort_values(by=[\"denspob\"],ascending=False).reset_index(drop=True)\n",
    "      ) \n",
    "\n",
    "E11.equals(e11)"
   ]
  },
  {
   "cell_type": "code",
   "execution_count": 31,
   "metadata": {
    "ExecuteTime": {
     "end_time": "2021-04-06T00:58:12.150494Z",
     "start_time": "2021-04-06T00:58:12.087988Z"
    }
   },
   "outputs": [
    {
     "name": "stdout",
     "output_type": "stream",
     "text": [
      "<class 'pandas.core.frame.DataFrame'>\n",
      "RangeIndex: 157 entries, 0 to 156\n",
      "Data columns (total 4 columns):\n",
      " #   Column        Non-Null Count  Dtype \n",
      "---  ------        --------------  ----- \n",
      " 0   Municipio     157 non-null    object\n",
      " 1   Departamento  157 non-null    object\n",
      " 2   Dep           157 non-null    object\n",
      " 3   Depmun        157 non-null    object\n",
      "dtypes: object(4)\n",
      "memory usage: 5.0+ KB\n"
     ]
    }
   ],
   "source": [
    "Repetidos = ps.sqldf(\"\"\"select   Municipio, count(*) as veces\n",
    "                        from     municipios\n",
    "                        group by Municipio\n",
    "                        having   veces > 1\n",
    "                        order by veces desc\"\"\")\n",
    "\n",
    "E12 = ps.sqldf(\"\"\"select   Municipio, Departamento, Dep, Depmun\n",
    "                  from     municipios\n",
    "                  where    Municipio in (select Municipio \n",
    "                                         from   Repetidos)\n",
    "                  order by Municipio, Departamento\"\"\")\n",
    "\n",
    "E12.info()"
   ]
  },
  {
   "cell_type": "code",
   "execution_count": 32,
   "metadata": {
    "ExecuteTime": {
     "end_time": "2021-04-06T00:58:13.138227Z",
     "start_time": "2021-04-06T00:58:13.110115Z"
    }
   },
   "outputs": [
    {
     "data": {
      "text/plain": [
       "True"
      ]
     },
     "execution_count": 32,
     "metadata": {},
     "output_type": "execute_result"
    }
   ],
   "source": [
    "Repetidos = (municipios\n",
    "             .groupby(\"Municipio\")\n",
    "             .agg(reps=(\"Municipio\",\"count\")).reset_index()\n",
    "             .query(\"reps > 1\")\n",
    "             .sort_values(by=[\"reps\"],ascending=False) \n",
    "            )\n",
    "reps = Repetidos[\"Municipio\"]\n",
    "\n",
    "e12 = (municipios\n",
    "       .loc[:,[\"Municipio\", \"Departamento\", \"Dep\", \"Depmun\"]] \n",
    "       .query(\"Municipio in @reps\")\n",
    "       .sort_values(by=[\"Municipio\", \"Departamento\"],ascending=[True,True]).reset_index(drop=True)\n",
    "      )\n",
    "\n",
    "E12.equals(e12)"
   ]
  },
  {
   "cell_type": "markdown",
   "metadata": {},
   "source": [
    "## Procesamiento de Datos - Advertising"
   ]
  },
  {
   "cell_type": "code",
   "execution_count": null,
   "metadata": {},
   "outputs": [],
   "source": []
  },
  {
   "cell_type": "markdown",
   "metadata": {},
   "source": [
    "# Final del Documento"
   ]
  },
  {
   "cell_type": "code",
   "execution_count": null,
   "metadata": {},
   "outputs": [],
   "source": []
  },
  {
   "cell_type": "code",
   "execution_count": null,
   "metadata": {},
   "outputs": [],
   "source": []
  }
 ],
 "metadata": {
  "kernelspec": {
   "display_name": "Python 3",
   "language": "python",
   "name": "python3"
  },
  "language_info": {
   "codemirror_mode": {
    "name": "ipython",
    "version": 3
   },
   "file_extension": ".py",
   "mimetype": "text/x-python",
   "name": "python",
   "nbconvert_exporter": "python",
   "pygments_lexer": "ipython3",
   "version": "3.8.2"
  },
  "toc": {
   "base_numbering": 1,
   "nav_menu": {},
   "number_sections": true,
   "sideBar": true,
   "skip_h1_title": true,
   "title_cell": "Table of Contents",
   "title_sidebar": "Contents",
   "toc_cell": true,
   "toc_position": {},
   "toc_section_display": true,
   "toc_window_display": true
  }
 },
 "nbformat": 4,
 "nbformat_minor": 4
}
