{
 "cells": [
  {
   "cell_type": "markdown",
   "metadata": {
    "toc": true
   },
   "source": [
    "<h1>Table of Contents<span class=\"tocSkip\"></span></h1>\n",
    "<div class=\"toc\"><ul class=\"toc-item\"><li><span><a href=\"#Preproccesing-Data\" data-toc-modified-id=\"Preproccesing-Data-1\"><span class=\"toc-item-num\">1&nbsp;&nbsp;</span>Preproccesing Data</a></span><ul class=\"toc-item\"><li><span><a href=\"#Scale-Information\" data-toc-modified-id=\"Scale-Information-1.1\"><span class=\"toc-item-num\">1.1&nbsp;&nbsp;</span>Scale Information</a></span></li><li><span><a href=\"#Split-Intro-Training-and-Test\" data-toc-modified-id=\"Split-Intro-Training-and-Test-1.2\"><span class=\"toc-item-num\">1.2&nbsp;&nbsp;</span>Split Intro Training and Test</a></span></li></ul></li><li><span><a href=\"#NN:-Arquitecture-and-Training\" data-toc-modified-id=\"NN:-Arquitecture-and-Training-2\"><span class=\"toc-item-num\">2&nbsp;&nbsp;</span>NN: Arquitecture and Training</a></span><ul class=\"toc-item\"><li><span><a href=\"#Plot-the-Predictions\" data-toc-modified-id=\"Plot-the-Predictions-2.1\"><span class=\"toc-item-num\">2.1&nbsp;&nbsp;</span>Plot the Predictions</a></span></li><li><span><a href=\"#Confidence-Bands\" data-toc-modified-id=\"Confidence-Bands-2.2\"><span class=\"toc-item-num\">2.2&nbsp;&nbsp;</span>Confidence Bands</a></span></li></ul></li></ul></div>"
   ]
  },
  {
   "cell_type": "markdown",
   "metadata": {},
   "source": [
    "# Confidence Intervals/Bands With Keras"
   ]
  },
  {
   "cell_type": "markdown",
   "metadata": {},
   "source": [
    "In this notebook we construct not only prediction but confidence bands for a series problem using keras."
   ]
  },
  {
   "cell_type": "code",
   "execution_count": 1,
   "metadata": {
    "ExecuteTime": {
     "end_time": "2021-08-12T17:48:27.555527Z",
     "start_time": "2021-08-12T17:48:25.113106Z"
    }
   },
   "outputs": [
    {
     "name": "stdout",
     "output_type": "stream",
     "text": [
      "TF VERSION: 2.4.1\n"
     ]
    }
   ],
   "source": [
    "# Import the required libraries\n",
    "import pandas as pd\n",
    "import tensorflow as tf\n",
    "import numpy as np\n",
    "from tensorflow.keras.layers import Dense, Dropout\n",
    "from tensorflow.keras.models import Model, Sequential\n",
    "from tensorflow.keras.models import load_model\n",
    "from tensorflow.keras import backend as K\n",
    "from sklearn.model_selection import train_test_split\n",
    "from tensorflow.keras.utils import plot_model\n",
    "from sklearn.preprocessing import StandardScaler\n",
    "import matplotlib.pyplot as plt\n",
    "from pandas import read_csv\n",
    "import math\n",
    "from tensorflow.keras.models import Sequential\n",
    "from tensorflow.keras.layers import Dense\n",
    "from tensorflow.keras.layers import LSTM\n",
    "from sklearn.preprocessing import MinMaxScaler\n",
    "from sklearn.metrics import mean_squared_error\n",
    "import numpy\n",
    "print(f'TF VERSION: {tf.__version__}')"
   ]
  },
  {
   "cell_type": "markdown",
   "metadata": {},
   "source": [
    "## Preproccesing Data"
   ]
  },
  {
   "cell_type": "code",
   "execution_count": 2,
   "metadata": {
    "ExecuteTime": {
     "end_time": "2021-08-12T17:48:27.560691Z",
     "start_time": "2021-08-12T17:48:27.557706Z"
    }
   },
   "outputs": [],
   "source": [
    "# Convert an array of values into a dataset matrix\n",
    "def create_dataset(dataset, look_back=1):\n",
    "    dataX, dataY = [], []\n",
    "    for i in range(len(dataset)-look_back-1):\n",
    "        a = dataset[i:(i+look_back), 0]\n",
    "        dataX.append(a)\n",
    "        dataY.append(dataset[i + look_back, 0])\n",
    "    return numpy.array(dataX), numpy.array(dataY)"
   ]
  },
  {
   "cell_type": "code",
   "execution_count": 3,
   "metadata": {
    "ExecuteTime": {
     "end_time": "2021-08-12T17:48:27.569310Z",
     "start_time": "2021-08-12T17:48:27.562939Z"
    }
   },
   "outputs": [],
   "source": [
    "# Fix random seed for reproducibility\n",
    "numpy.random.seed(7)\n",
    "# Load the dataset\n",
    "dataframe = read_csv('../Data/ConfidenceBands/data.csv', usecols=[1], engine='python')\n",
    "dataset = dataframe.values\n",
    "dataset = dataset.astype('float32')"
   ]
  },
  {
   "cell_type": "markdown",
   "metadata": {},
   "source": [
    "### Scale Information"
   ]
  },
  {
   "cell_type": "code",
   "execution_count": 4,
   "metadata": {
    "ExecuteTime": {
     "end_time": "2021-08-12T17:48:27.573755Z",
     "start_time": "2021-08-12T17:48:27.571368Z"
    }
   },
   "outputs": [],
   "source": [
    "# Normalize the dataset\n",
    "scaler = MinMaxScaler(feature_range=(0, 1))\n",
    "dataset = scaler.fit_transform(dataset)"
   ]
  },
  {
   "cell_type": "markdown",
   "metadata": {},
   "source": [
    "### Split Intro Training and Test"
   ]
  },
  {
   "cell_type": "code",
   "execution_count": 5,
   "metadata": {
    "ExecuteTime": {
     "end_time": "2021-08-12T17:48:27.577607Z",
     "start_time": "2021-08-12T17:48:27.575278Z"
    }
   },
   "outputs": [],
   "source": [
    "# Split into train and test sets\n",
    "train_size = int(len(dataset) * 0.67)\n",
    "test_size = len(dataset) - train_size\n",
    "train, test = dataset[0:train_size,:], dataset[train_size:len(dataset),:]"
   ]
  },
  {
   "cell_type": "code",
   "execution_count": 6,
   "metadata": {
    "ExecuteTime": {
     "end_time": "2021-08-12T17:48:27.582314Z",
     "start_time": "2021-08-12T17:48:27.578895Z"
    }
   },
   "outputs": [],
   "source": [
    "# reshape into X=t and Y=t+1\n",
    "look_back = 1\n",
    "trainX, trainY = create_dataset(train, look_back)\n",
    "testX, testY = create_dataset(test, look_back)\n",
    "# reshape input to be [samples, time steps, features]\n",
    "trainX = numpy.reshape(trainX, (trainX.shape[0], 1, trainX.shape[1]))\n",
    "testX = numpy.reshape(testX, (testX.shape[0], 1, testX.shape[1]))"
   ]
  },
  {
   "cell_type": "markdown",
   "metadata": {},
   "source": [
    "## NN: Arquitecture and Training"
   ]
  },
  {
   "cell_type": "code",
   "execution_count": 7,
   "metadata": {
    "ExecuteTime": {
     "end_time": "2021-08-12T17:48:34.081503Z",
     "start_time": "2021-08-12T17:48:27.583721Z"
    }
   },
   "outputs": [],
   "source": [
    "# Create and fit the LSTM network\n",
    "model = Sequential()\n",
    "model.add(LSTM(4, input_shape=(1, look_back)))\n",
    "model.add(Dropout(0.2))\n",
    "model.add(Dense(1))\n",
    "model.compile(loss='mean_squared_error', optimizer='adam')\n",
    "model.fit(trainX, trainY, epochs=100, batch_size=1, verbose=0)\n",
    "# Make predictions\n",
    "trainPredict = model.predict(trainX)\n",
    "testPredict = model.predict(testX)\n",
    "# Invert predictions\n",
    "trainPredict = scaler.inverse_transform(trainPredict)\n",
    "trainY = scaler.inverse_transform([trainY])\n",
    "testPredict = scaler.inverse_transform(testPredict)\n",
    "testY = scaler.inverse_transform([testY])"
   ]
  },
  {
   "cell_type": "code",
   "execution_count": 8,
   "metadata": {
    "ExecuteTime": {
     "end_time": "2021-08-12T17:48:34.088527Z",
     "start_time": "2021-08-12T17:48:34.083866Z"
    }
   },
   "outputs": [
    {
     "name": "stdout",
     "output_type": "stream",
     "text": [
      "Train Score: 23.17 RMSE\n",
      "Test Score: 48.90 RMSE\n"
     ]
    }
   ],
   "source": [
    "# Calculate root mean squared error\n",
    "trainScore = math.sqrt(mean_squared_error(trainY[0], trainPredict[:,0]))\n",
    "print('Train Score: %.2f RMSE' % (trainScore))\n",
    "testScore = math.sqrt(mean_squared_error(testY[0], testPredict[:,0]))\n",
    "print('Test Score: %.2f RMSE' % (testScore))"
   ]
  },
  {
   "cell_type": "markdown",
   "metadata": {},
   "source": [
    "### Plot the Predictions"
   ]
  },
  {
   "cell_type": "code",
   "execution_count": 9,
   "metadata": {
    "ExecuteTime": {
     "end_time": "2021-08-12T17:48:34.093507Z",
     "start_time": "2021-08-12T17:48:34.090528Z"
    }
   },
   "outputs": [],
   "source": [
    "# Shift train predictions for plotting\n",
    "trainPredictPlot = numpy.empty_like(dataset)\n",
    "trainPredictPlot[:, :] = numpy.nan\n",
    "trainPredictPlot[look_back:len(trainPredict)+look_back, :] = trainPredict"
   ]
  },
  {
   "cell_type": "code",
   "execution_count": 10,
   "metadata": {
    "ExecuteTime": {
     "end_time": "2021-08-12T17:48:34.316928Z",
     "start_time": "2021-08-12T17:48:34.314150Z"
    }
   },
   "outputs": [],
   "source": [
    "# Shift test predictions for plotting\n",
    "testPredictPlot = numpy.empty_like(dataset)\n",
    "testPredictPlot[:, :] = numpy.nan\n",
    "testPredictPlot[len(trainPredict)+(look_back*2)+1:len(dataset)-1, :] = testPredict"
   ]
  },
  {
   "cell_type": "code",
   "execution_count": 11,
   "metadata": {
    "ExecuteTime": {
     "end_time": "2021-08-12T17:48:35.492217Z",
     "start_time": "2021-08-12T17:48:35.361678Z"
    },
    "scrolled": true
   },
   "outputs": [
    {
     "data": {
      "image/png": "[encoded data removed]",
      "text/plain": [
       "<Figure size 432x288 with 1 Axes>"
      ]
     },
     "metadata": {
      "needs_background": "light"
     },
     "output_type": "display_data"
    }
   ],
   "source": [
    "# Plot baseline and predictions\n",
    "plt.plot(scaler.inverse_transform(dataset))\n",
    "plt.plot(trainPredictPlot)\n",
    "plt.plot(testPredictPlot)\n",
    "plt.show()"
   ]
  },
  {
   "cell_type": "code",
   "execution_count": 31,
   "metadata": {
    "ExecuteTime": {
     "end_time": "2021-08-12T17:55:26.798616Z",
     "start_time": "2021-08-12T17:55:26.796098Z"
    }
   },
   "outputs": [],
   "source": [
    "# Predictions\n",
    "predictions = list(trainPredict.reshape(trainPredict.shape[0],)) + \\\n",
    "              list(testPredict.reshape(testPredict.shape[0],))\n",
    "predictions = np.array(predictions)\n",
    "predictions = predictions.reshape(predictions.shape[0],1)"
   ]
  },
  {
   "cell_type": "markdown",
   "metadata": {},
   "source": [
    "### Confidence Bands"
   ]
  },
  {
   "cell_type": "code",
   "execution_count": 83,
   "metadata": {
    "ExecuteTime": {
     "end_time": "2021-08-12T18:12:54.826495Z",
     "start_time": "2021-08-12T18:12:54.821295Z"
    }
   },
   "outputs": [],
   "source": [
    "# For example for 90% confidence\n",
    "ci = 0.99\n",
    "lower_lim = np.quantile(predictions, 0.5-ci/2, axis=1)\n",
    "upper_lim = np.quantile(predictions, 0.5+ci/2, axis=1)\n",
    "\n",
    "lower_lim_p = numpy.empty_like(dataset)\n",
    "lower_lim_p[:, :] = numpy.nan\n",
    "lower_lim_p[1:141, :] = lower_lim.reshape(lower_lim.shape[0], 1)\n",
    "upper_lim_p = numpy.empty_like(dataset)\n",
    "upper_lim_p[:, :] = numpy.nan\n",
    "upper_lim_p[1:141, :] = upper_lim.reshape(upper_lim.shape[0], 1)"
   ]
  },
  {
   "cell_type": "code",
   "execution_count": 88,
   "metadata": {
    "ExecuteTime": {
     "end_time": "2021-08-12T18:15:00.466026Z",
     "start_time": "2021-08-12T18:15:00.327751Z"
    }
   },
   "outputs": [
    {
     "data": {
      "image/png": "[encoded data removed]",
      "text/plain": [
       "<Figure size 432x288 with 1 Axes>"
      ]
     },
     "metadata": {
      "needs_background": "light"
     },
     "output_type": "display_data"
    }
   ],
   "source": [
    "# Plot baseline and predictions\n",
    "plt.plot(scaler.inverse_transform(dataset))\n",
    "plt.plot(trainPredictPlot, color ='yellow')\n",
    "plt.plot(testPredictPlot, color ='yellow')\n",
    "plt.plot(lower_lim_p, linestyle='dashed', color='green')\n",
    "plt.plot(upper_lim_p, linestyle='dashed', color='red')\n",
    "plt.show()"
   ]
  },
  {
   "cell_type": "markdown",
   "metadata": {},
   "source": [
    "Finally with the confidence bands fro our prediction!"
   ]
  },
  {
   "cell_type": "markdown",
   "metadata": {},
   "source": [
    "# End"
   ]
  },
  {
   "cell_type": "code",
   "execution_count": null,
   "metadata": {},
   "outputs": [],
   "source": []
  }
 ],
 "metadata": {
  "colab": {
   "name": "Regresion-Clasificacion.ipynb",
   "provenance": []
  },
  "kernelspec": {
   "display_name": "Python 3",
   "language": "python",
   "name": "python3"
  },
  "language_info": {
   "codemirror_mode": {
    "name": "ipython",
    "version": 3
   },
   "file_extension": ".py",
   "mimetype": "text/x-python",
   "name": "python",
   "nbconvert_exporter": "python",
   "pygments_lexer": "ipython3",
   "version": "3.8.2"
  },
  "toc": {
   "base_numbering": 1,
   "nav_menu": {},
   "number_sections": true,
   "sideBar": true,
   "skip_h1_title": true,
   "title_cell": "Table of Contents",
   "title_sidebar": "Contents",
   "toc_cell": true,
   "toc_position": {},
   "toc_section_display": true,
   "toc_window_display": true
  }
 },
 "nbformat": 4,
 "nbformat_minor": 5
}
